{
 "cells": [
  {
   "cell_type": "markdown",
   "metadata": {},
   "source": [
    "#### Data set\n",
    "The training data can be found in /scratch/DL24FA/train/states.npy and /scratch/DL24FA/train/actions.npy. States have shape (num_trajectories, trajectory_length, 2, 64, 64). The observation is a two-channel image. 1st channel representing agent, and 2nd channel representing border and walls. Actions have shape (num_trajectories, trajectory_length-1, 2), each action is a (delta x, delta y) vector specifying position shift from previous global position of agent.\n",
    "\n",
    "Probing train dataset can be found in /scratch/DL24FA/probe_normal/train.\n",
    "\n",
    "Probing val datasets can be found in /scratch/DL24FA/probe_normal/val and /scratch/DL24FA/probe_wall/val"
   ]
  },
  {
   "cell_type": "code",
   "execution_count": 1,
   "metadata": {},
   "outputs": [
    {
     "name": "stdout",
     "output_type": "stream",
     "text": [
      "Shape of states: (147008, 17, 2, 65, 65)\n",
      "Min value in states-1st channel: 0.0\n",
      "Max value in states-1st channel: 0.0901125892996788\n",
      "Min value in states-2nd channel: 0.0\n",
      "Max value in states-2nd channel: 0.09413983672857285\n"
     ]
    }
   ],
   "source": [
    "import numpy as np\n",
    "import matplotlib.pyplot as plt\n",
    "import ipywidgets as widgets\n",
    "from ipywidgets import interact\n",
    "\n",
    "root = '/scratch/DL24FA/train/'\n",
    "states = np.load(root + \"states.npy\", mmap_mode=\"r\")\n",
    "\n",
    "# Assuming 'states' is your numpy array with shape (147008, 17, 2, 65, 65)\n",
    "# You can check the shape:\n",
    "print(f\"Shape of states: {states.shape}\")\n",
    "print(f\"Min value in states-1st channel: {np.min(states[0,0,0,:,:])}\")\n",
    "print(f\"Max value in states-1st channel: {np.max(states[0,0,0,:,:])}\")\n",
    "\n",
    "print(f\"Min value in states-2nd channel: {np.min(states[0,0,1,:,:])}\")\n",
    "print(f\"Max value in states-2nd channel: {np.max(states[0,0,1,:,:])}\")\n",
    "# print(f\"Mean value in states: {np.mean(states[0,0,0,:,:])}\")"
   ]
  },
  {
   "cell_type": "code",
   "execution_count": 22,
   "metadata": {},
   "outputs": [
    {
     "data": {
      "application/vnd.jupyter.widget-view+json": {
       "model_id": "f2d2f16c721e4238845c065ebf23761f",
       "version_major": 2,
       "version_minor": 0
      },
      "text/plain": [
       "interactive(children=(IntSlider(value=0, description='k', max=16), Output()), _dom_classes=('widget-interact',…"
      ]
     },
     "metadata": {},
     "output_type": "display_data"
    },
    {
     "data": {
      "text/plain": [
       "<function __main__.plot_slices(k)>"
      ]
     },
     "execution_count": 22,
     "metadata": {},
     "output_type": "execute_result"
    }
   ],
   "source": [
    "def plot_slices(k):\n",
    "    \"\"\"\n",
    "    Plot slices (0, k, 0, :, :) and (0, k, 1, :, :) from the 'states' array.\n",
    "    \"\"\"\n",
    "    slice_0_0 = states[0, k, 0, :, :]\n",
    "    slice_0_1 = states[0, k, 1, :, :]\n",
    "\n",
    "    # Plot the two slices\n",
    "    fig, axes = plt.subplots(1, 3, figsize=(10, 6))\n",
    "\n",
    "    # Plot slice (0, k, 0, :, :)\n",
    "    axes[0].imshow(slice_0_0, cmap='gray')\n",
    "    axes[0].set_title(f\"1st channel\")\n",
    "    axes[0].axis('off')\n",
    "\n",
    "    # Plot slice (0, k, 1, :, :)\n",
    "    axes[1].imshow(slice_0_1, cmap='gray')\n",
    "    axes[1].set_title(f\"2nd channel\")\n",
    "    axes[1].axis('off')\n",
    "\n",
    "    # Plot slice (0, k, 1, :, :)\n",
    "    axes[2].imshow(slice_0_0 + slice_0_1, cmap='gray')\n",
    "    axes[2].set_title(f\"Sum of two channels\")\n",
    "    axes[2].axis('off')\n",
    "\n",
    "    plt.tight_layout()\n",
    "    plt.show()\n",
    "\n",
    "interact(plot_slices, k=widgets.IntSlider(min=0, max=16, step=1, value=0))"
   ]
  },
  {
   "cell_type": "code",
   "execution_count": 21,
   "metadata": {},
   "outputs": [
    {
     "name": "stdout",
     "output_type": "stream",
     "text": [
      "Shape of actions: (147008, 16, 2)\n",
      "Data type of actions: float32\n",
      "First few values of actions: [[[-1.2286036  -0.6856939 ]\n",
      "  [-1.1471417  -0.5812111 ]\n",
      "  [-1.4306358   0.15189609]\n",
      "  [-1.4216981   0.49406055]\n",
      "  [-0.7304001   0.852477  ]\n",
      "  [-0.04504424  1.4733423 ]\n",
      "  [-0.5732579   1.5593402 ]\n",
      "  [-0.16509399  0.6011875 ]\n",
      "  [-0.13276285  1.2564228 ]\n",
      "  [-1.4195192   0.546803  ]\n",
      "  [-0.69069576 -0.14020118]\n",
      "  [-0.85271645  0.5819476 ]\n",
      "  [-0.91770935  0.09606887]\n",
      "  [-0.3189355   0.16542318]\n",
      "  [-1.3380411   0.32055482]\n",
      "  [-1.5341651   0.08603017]]]\n"
     ]
    }
   ],
   "source": [
    "actions = np.load(root + \"actions.npy\")\n",
    "\n",
    "# Inspect the shape and type of actions\n",
    "print(f\"Shape of actions: {actions.shape}\")\n",
    "print(f\"Data type of actions: {actions.dtype}\")\n",
    "print(f\"First few values of actions: {actions[:1]}\")"
   ]
  }
 ],
 "metadata": {
  "kernelspec": {
   "display_name": "Python 3",
   "language": "python",
   "name": "python3"
  },
  "language_info": {
   "codemirror_mode": {
    "name": "ipython",
    "version": 3
   },
   "file_extension": ".py",
   "mimetype": "text/x-python",
   "name": "python",
   "nbconvert_exporter": "python",
   "pygments_lexer": "ipython3",
   "version": "3.9.18"
  }
 },
 "nbformat": 4,
 "nbformat_minor": 2
}
